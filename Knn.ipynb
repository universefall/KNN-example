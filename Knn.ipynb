{
 "cells": [
  {
   "cell_type": "code",
   "execution_count": 19,
   "id": "straight-length",
   "metadata": {},
   "outputs": [
    {
     "data": {
      "text/plain": [
       "sklearn.utils.Bunch"
      ]
     },
     "execution_count": 19,
     "metadata": {},
     "output_type": "execute_result"
    }
   ],
   "source": [
    "from sklearn.datasets import load_iris\n",
    "iris = load_iris()\n",
    "type(iris)"
   ]
  },
  {
   "cell_type": "code",
   "execution_count": 20,
   "id": "fixed-cross",
   "metadata": {},
   "outputs": [
    {
     "data": {
      "text/plain": [
       "dict_keys(['data', 'target', 'frame', 'target_names', 'DESCR', 'feature_names', 'filename'])"
      ]
     },
     "execution_count": 20,
     "metadata": {},
     "output_type": "execute_result"
    }
   ],
   "source": [
    "iris.keys()\n"
   ]
  },
  {
   "cell_type": "code",
   "execution_count": 21,
   "id": "forty-fleece",
   "metadata": {
    "tags": []
   },
   "outputs": [],
   "source": [
    "#数据的切分,为训练集和测试集\n",
    "from sklearn.model_selection import train_test_split\n",
    "\n",
    "iris_data = iris.data\n",
    "iris_target = iris.target\n",
    "\n",
    "x_train, x_test, y_train, y_test = train_test_split(iris_data, iris_target, test_size=0.25)\n"
   ]
  },
  {
   "cell_type": "code",
   "execution_count": 22,
   "id": "pregnant-melissa",
   "metadata": {},
   "outputs": [
    {
     "data": {
      "text/plain": [
       "KNeighborsClassifier()"
      ]
     },
     "execution_count": 22,
     "metadata": {},
     "output_type": "execute_result"
    }
   ],
   "source": [
    "# 导入算法\n",
    "from sklearn.neighbors import KNeighborsClassifier\n",
    "\n",
    "# 对算法进行训练，设置k值为5\n",
    "knn = KNeighborsClassifier(n_neighbors = 5)\n",
    "\n",
    "knn.fit(x_train, y_train)"
   ]
  },
  {
   "cell_type": "code",
   "execution_count": 23,
   "id": "offensive-polymer",
   "metadata": {},
   "outputs": [
    {
     "data": {
      "text/plain": [
       "array([1, 1, 0, 2, 0, 0, 1, 1, 2, 2, 2, 0, 2, 0, 0, 1, 2, 2, 1, 2, 2, 1,\n",
       "       1, 0, 0, 0, 2, 2, 2, 1, 0, 1, 1, 1, 0, 0, 2, 2])"
      ]
     },
     "execution_count": 23,
     "metadata": {},
     "output_type": "execute_result"
    }
   ],
   "source": [
    "#预测阶段\n",
    "y_predict = knn.predict(x_test)\n",
    "y_predict"
   ]
  },
  {
   "cell_type": "code",
   "execution_count": 24,
   "id": "linear-athletics",
   "metadata": {
    "tags": []
   },
   "outputs": [
    {
     "name": "stdout",
     "output_type": "stream",
     "text": [
      "第1次测试：真实值为：锦葵   预测值为：锦葵\n",
      "第2次测试：真实值为：锦葵   预测值为：锦葵\n",
      "第3次测试：真实值为：山鸢尾   预测值为：山鸢尾\n",
      "第4次测试：真实值为：变色鸢尾   预测值为：变色鸢尾\n",
      "第5次测试：真实值为：山鸢尾   预测值为：山鸢尾\n",
      "第6次测试：真实值为：山鸢尾   预测值为：山鸢尾\n",
      "第7次测试：真实值为：锦葵   预测值为：锦葵\n",
      "第8次测试：真实值为：锦葵   预测值为：锦葵\n",
      "第9次测试：真实值为：变色鸢尾   预测值为：变色鸢尾\n",
      "第10次测试：真实值为：变色鸢尾   预测值为：变色鸢尾\n",
      "第11次测试：真实值为：变色鸢尾   预测值为：变色鸢尾\n",
      "第12次测试：真实值为：山鸢尾   预测值为：山鸢尾\n",
      "第13次测试：真实值为：变色鸢尾   预测值为：变色鸢尾\n",
      "第14次测试：真实值为：山鸢尾   预测值为：山鸢尾\n",
      "第15次测试：真实值为：山鸢尾   预测值为：山鸢尾\n",
      "第16次测试：真实值为：锦葵   预测值为：锦葵\n",
      "第17次测试：真实值为：变色鸢尾   预测值为：变色鸢尾\n",
      "第18次测试：真实值为：变色鸢尾   预测值为：变色鸢尾\n",
      "第19次测试：真实值为：锦葵   预测值为：锦葵\n",
      "第20次测试：真实值为：变色鸢尾   预测值为：变色鸢尾\n",
      "第21次测试：真实值为：变色鸢尾   预测值为：变色鸢尾\n",
      "第22次测试：真实值为：锦葵   预测值为：锦葵\n",
      "第23次测试：真实值为：锦葵   预测值为：锦葵\n",
      "第24次测试：真实值为：山鸢尾   预测值为：山鸢尾\n",
      "第25次测试：真实值为：山鸢尾   预测值为：山鸢尾\n",
      "第26次测试：真实值为：山鸢尾   预测值为：山鸢尾\n",
      "第27次测试：真实值为：锦葵   预测值为：变色鸢尾\n",
      "第28次测试：真实值为：变色鸢尾   预测值为：变色鸢尾\n",
      "第29次测试：真实值为：变色鸢尾   预测值为：变色鸢尾\n",
      "第30次测试：真实值为：锦葵   预测值为：锦葵\n",
      "第31次测试：真实值为：山鸢尾   预测值为：山鸢尾\n",
      "第32次测试：真实值为：锦葵   预测值为：锦葵\n",
      "第33次测试：真实值为：锦葵   预测值为：锦葵\n",
      "第34次测试：真实值为：锦葵   预测值为：锦葵\n",
      "第35次测试：真实值为：山鸢尾   预测值为：山鸢尾\n",
      "第36次测试：真实值为：山鸢尾   预测值为：山鸢尾\n",
      "第37次测试：真实值为：变色鸢尾   预测值为：变色鸢尾\n",
      "第38次测试：真实值为：变色鸢尾   预测值为：变色鸢尾\n"
     ]
    }
   ],
   "source": [
    "labels = [\"山鸢尾\",\"锦葵\",\"变色鸢尾\"]\n",
    "for i in range(len(y_predict)):\n",
    "    print(\"第%d次测试：真实值为：%s   预测值为：%s\"% ((i+1), labels[y_test[i]], labels[y_predict[i]]))"
   ]
  },
  {
   "cell_type": "code",
   "execution_count": 25,
   "id": "caroline-germany",
   "metadata": {},
   "outputs": [
    {
     "data": {
      "text/plain": [
       "0.9736842105263158"
      ]
     },
     "execution_count": 25,
     "metadata": {},
     "output_type": "execute_result"
    }
   ],
   "source": [
    "#准确率\n",
    "knn.score(x_test, y_test)\n"
   ]
  },
  {
   "cell_type": "code",
   "execution_count": 35,
   "id": "lovely-lemon",
   "metadata": {},
   "outputs": [
    {
     "data": {
      "image/png": "[encoded data removed]",
      "text/plain": [
       "<Figure size 432x288 with 1 Axes>"
      ]
     },
     "metadata": {
      "needs_background": "light"
     },
     "output_type": "display_data"
    }
   ],
   "source": [
    "#查看随着k值变化，knn的分类准确度的变化\n",
    "from sklearn.model_selection import cross_val_score\n",
    "import matplotlib.pyplot as plt\n",
    "\n",
    "font = {'family': 'SimHei', 'size':'20'}\n",
    "plt.rc('font', **font)\n",
    "\n",
    "iris = load_iris()\n",
    "x = iris.data\n",
    "y = iris.target\n",
    "k_range = range(1,30)\n",
    "\n",
    "k_acc = []\n",
    "\n",
    "for k in k_range:\n",
    "    knn = KNeighborsClassifier(n_neighbors = k)\n",
    "    scores = cross_val_score(knn, x, y, cv=6)\n",
    "    \n",
    "    k_acc.append(scores.mean())\n",
    "\n",
    "plt.plot(k_range, k_acc)\n",
    "plt.xlabel('k的值')\n",
    "plt.ylabel('准确率')\n",
    "plt.show()\n"
   ]
  },
  {
   "cell_type": "code",
   "execution_count": 36,
   "id": "scientific-arnold",
   "metadata": {},
   "outputs": [
    {
     "data": {
      "text/plain": [
       "11"
      ]
     },
     "execution_count": 36,
     "metadata": {},
     "output_type": "execute_result"
    }
   ],
   "source": [
    "k_acc.index(max(k_acc))"
   ]
  },
  {
   "cell_type": "code",
   "execution_count": null,
   "id": "legendary-complexity",
   "metadata": {},
   "outputs": [],
   "source": []
  }
 ],
 "metadata": {
  "kernelspec": {
   "display_name": "Python 3",
   "language": "python",
   "name": "python3"
  },
  "language_info": {
   "codemirror_mode": {
    "name": "ipython",
    "version": 3
   },
   "file_extension": ".py",
   "mimetype": "text/x-python",
   "name": "python",
   "nbconvert_exporter": "python",
   "pygments_lexer": "ipython3",
   "version": "3.8.8"
  }
 },
 "nbformat": 4,
 "nbformat_minor": 5
}
